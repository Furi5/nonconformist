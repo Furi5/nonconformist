{
 "cells": [
  {
   "cell_type": "code",
   "execution_count": 45,
   "metadata": {},
   "outputs": [],
   "source": [
    "import pandas as pd\n",
    "from sklearn.metrics import roc_auc_score, accuracy_score, precision_score, recall_score\n",
    "from rdkit import Chem\n",
    "import chemprop\n",
    "\n",
    "def evaluate_metrics(y_true, y_pred):\n",
    "    y_pred = [p[0] for p in y_pred]\n",
    "    y_pred_label = [1 if p > 0.5 else 0 for p in y_pred]\n",
    "    auc = roc_auc_score(y_true, y_pred)\n",
    "    accuracy = accuracy_score(y_true, y_pred_label)\n",
    "    precision = precision_score(y_true, y_pred_label)\n",
    "    recall = recall_score(y_true, y_pred_label)\n",
    "    \n",
    "    return {\n",
    "        'AUC': \"{:.3f}\".format(auc),\n",
    "        'Accuracy': \"{:.3f}\".format(accuracy),\n",
    "        'Precision': \"{:.3f}\".format(precision),\n",
    "        'Recall': \"{:.3f}\".format(recall)\n",
    "    }\n",
    "\n",
    "def chemprop_pred(smiles_list):\n",
    "    arguments = [\n",
    "        '--test_path', '/dev/null',\n",
    "        '--preds_path', '/dev/null',\n",
    "        '--checkpoint_dir', '/home/jovyan/my_code/uncertainty/checkpoints/hERGDB/hERGDB_model'\n",
    "    ]\n",
    "\n",
    "    args = chemprop.args.PredictArgs().parse_args(arguments)\n",
    "    model_objects = chemprop.train.load_model(args=args)\n",
    "    smiles = [[s]for s in smiles_list]\n",
    "\n",
    "    preds = chemprop.train.make_predictions(\n",
    "        args=args, \n",
    "        smiles=smiles, \n",
    "        model_objects=model_objects,\n",
    "        return_invalid_smiles=True\n",
    "        )\n",
    "    \n",
    "    return preds"
   ]
  },
  {
   "cell_type": "code",
   "execution_count": 46,
   "metadata": {},
   "outputs": [],
   "source": [
    "df_val = pd.read_csv('/home/jovyan/my_code/uncertainty/data/hERGDB/hERGDB_cls_valid_data.csv')\n",
    "df_week1 = pd.read_csv('/home/jovyan/my_code/uncertainty/data/hERGDB/hERGDB_cls_week1_1201.csv')\n",
    "df_week2 = pd.read_csv('/home/jovyan/my_code/uncertainty/data/hERGDB/hERGDB_cls_week2_1201.csv')\n",
    "df_week3 = pd.read_csv('/home/jovyan/my_code/uncertainty/data/hERGDB/hERGDB_cls_week3_1201.csv')\n",
    "df_week4 = pd.read_csv('/home/jovyan/my_code/uncertainty/data/hERGDB/hERGDB_cls_week4_1201.csv')\n",
    "\n",
    "val_smi = df_val['smiles'].tolist()\n",
    "val_true = df_val['class'].tolist()\n",
    "\n",
    "week1_smi = df_week1['smiles'].tolist()\n",
    "week1_true = df_week1['class'].tolist()\n",
    "\n",
    "week2_smi = df_week2['smiles'].tolist()\n",
    "week2_true = df_week2['class'].tolist()\n",
    "\n",
    "week3_smi = df_week3['smiles'].tolist()\n",
    "week3_true = df_week3['class'].tolist()\n",
    "\n",
    "week4_smi = df_week4['smiles'].tolist()\n",
    "week4_true = df_week4['class'].tolist()"
   ]
  },
  {
   "cell_type": "code",
   "execution_count": 47,
   "metadata": {},
   "outputs": [
    {
     "name": "stdout",
     "output_type": "stream",
     "text": [
      "Loading training args\n"
     ]
    },
    {
     "name": "stderr",
     "output_type": "stream",
     "text": [
      "/home/jovyan/miniconda3/envs/py39/lib/python3.9/site-packages/chemprop/utils.py:473: FutureWarning: You are using `torch.load` with `weights_only=False` (the current default value), which uses the default pickle module implicitly. It is possible to construct malicious pickle data which will execute arbitrary code during unpickling (See https://github.com/pytorch/pytorch/blob/main/SECURITY.md#untrusted-models for more details). In a future release, the default value for `weights_only` will be flipped to `True`. This limits the functions that could be executed during unpickling. Arbitrary objects will no longer be allowed to be loaded via this mode unless they are explicitly allowlisted by the user via `torch.serialization.add_safe_globals`. We recommend you start setting `weights_only=True` for any use case where you don't have full control of the loaded file. Please open an issue on GitHub for any issues related to this experimental feature.\n",
      "  vars(torch.load(path, map_location=lambda storage, loc: storage)[\"args\"]),\n",
      "/home/jovyan/miniconda3/envs/py39/lib/python3.9/site-packages/chemprop/utils.py:112: FutureWarning: You are using `torch.load` with `weights_only=False` (the current default value), which uses the default pickle module implicitly. It is possible to construct malicious pickle data which will execute arbitrary code during unpickling (See https://github.com/pytorch/pytorch/blob/main/SECURITY.md#untrusted-models for more details). In a future release, the default value for `weights_only` will be flipped to `True`. This limits the functions that could be executed during unpickling. Arbitrary objects will no longer be allowed to be loaded via this mode unless they are explicitly allowlisted by the user via `torch.serialization.add_safe_globals`. We recommend you start setting `weights_only=True` for any use case where you don't have full control of the loaded file. Please open an issue on GitHub for any issues related to this experimental feature.\n",
      "  state = torch.load(path, map_location=lambda storage, loc: storage)\n",
      "/home/jovyan/miniconda3/envs/py39/lib/python3.9/site-packages/chemprop/utils.py:418: FutureWarning: You are using `torch.load` with `weights_only=False` (the current default value), which uses the default pickle module implicitly. It is possible to construct malicious pickle data which will execute arbitrary code during unpickling (See https://github.com/pytorch/pytorch/blob/main/SECURITY.md#untrusted-models for more details). In a future release, the default value for `weights_only` will be flipped to `True`. This limits the functions that could be executed during unpickling. Arbitrary objects will no longer be allowed to be loaded via this mode unless they are explicitly allowlisted by the user via `torch.serialization.add_safe_globals`. We recommend you start setting `weights_only=True` for any use case where you don't have full control of the loaded file. Please open an issue on GitHub for any issues related to this experimental feature.\n",
      "  state = torch.load(path, map_location=lambda storage, loc: storage)\n"
     ]
    },
    {
     "name": "stdout",
     "output_type": "stream",
     "text": [
      "Loading pretrained parameter \"encoder.encoder.0.cached_zero_vector\".\n",
      "Loading pretrained parameter \"encoder.encoder.0.W_i.weight\".\n",
      "Loading pretrained parameter \"encoder.encoder.0.W_h.weight\".\n",
      "Loading pretrained parameter \"encoder.encoder.0.W_o.weight\".\n",
      "Loading pretrained parameter \"encoder.encoder.0.W_o.bias\".\n",
      "Loading pretrained parameter \"readout.1.weight\".\n",
      "Loading pretrained parameter \"readout.1.bias\".\n",
      "Loading pretrained parameter \"readout.4.weight\".\n",
      "Loading pretrained parameter \"readout.4.bias\".\n",
      "Setting molecule featurization parameters to default.\n",
      "Loading data\n",
      "Validating SMILES\n",
      "Test size = 1,422\n"
     ]
    },
    {
     "name": "stderr",
     "output_type": "stream",
     "text": [
      "100%|██████████| 1/1 [00:04<00:00,  4.97s/it]\n"
     ]
    },
    {
     "name": "stdout",
     "output_type": "stream",
     "text": [
      "Saving predictions to /dev/null\n",
      "Elapsed time = 0:00:05\n",
      "Loading training args\n",
      "Loading pretrained parameter \"encoder.encoder.0.cached_zero_vector\".\n",
      "Loading pretrained parameter \"encoder.encoder.0.W_i.weight\".\n",
      "Loading pretrained parameter \"encoder.encoder.0.W_h.weight\".\n",
      "Loading pretrained parameter \"encoder.encoder.0.W_o.weight\".\n",
      "Loading pretrained parameter \"encoder.encoder.0.W_o.bias\".\n",
      "Loading pretrained parameter \"readout.1.weight\".\n",
      "Loading pretrained parameter \"readout.1.bias\".\n",
      "Loading pretrained parameter \"readout.4.weight\".\n",
      "Loading pretrained parameter \"readout.4.bias\".\n",
      "Setting molecule featurization parameters to default.\n",
      "Loading data\n",
      "Validating SMILES\n",
      "Test size = 843\n"
     ]
    },
    {
     "name": "stderr",
     "output_type": "stream",
     "text": [
      "100%|██████████| 1/1 [00:02<00:00,  2.92s/it]\n"
     ]
    },
    {
     "name": "stdout",
     "output_type": "stream",
     "text": [
      "Saving predictions to /dev/null\n",
      "Elapsed time = 0:00:03\n",
      "Loading training args\n",
      "Loading pretrained parameter \"encoder.encoder.0.cached_zero_vector\".\n",
      "Loading pretrained parameter \"encoder.encoder.0.W_i.weight\".\n",
      "Loading pretrained parameter \"encoder.encoder.0.W_h.weight\".\n",
      "Loading pretrained parameter \"encoder.encoder.0.W_o.weight\".\n",
      "Loading pretrained parameter \"encoder.encoder.0.W_o.bias\".\n",
      "Loading pretrained parameter \"readout.1.weight\".\n",
      "Loading pretrained parameter \"readout.1.bias\".\n",
      "Loading pretrained parameter \"readout.4.weight\".\n",
      "Loading pretrained parameter \"readout.4.bias\".\n",
      "Setting molecule featurization parameters to default.\n",
      "Loading data\n",
      "Validating SMILES\n",
      "Test size = 646\n"
     ]
    },
    {
     "name": "stderr",
     "output_type": "stream",
     "text": [
      "100%|██████████| 1/1 [00:02<00:00,  2.43s/it]\n"
     ]
    },
    {
     "name": "stdout",
     "output_type": "stream",
     "text": [
      "Saving predictions to /dev/null\n",
      "Elapsed time = 0:00:03\n",
      "Loading training args\n",
      "Loading pretrained parameter \"encoder.encoder.0.cached_zero_vector\".\n",
      "Loading pretrained parameter \"encoder.encoder.0.W_i.weight\".\n",
      "Loading pretrained parameter \"encoder.encoder.0.W_h.weight\".\n",
      "Loading pretrained parameter \"encoder.encoder.0.W_o.weight\".\n",
      "Loading pretrained parameter \"encoder.encoder.0.W_o.bias\".\n",
      "Loading pretrained parameter \"readout.1.weight\".\n",
      "Loading pretrained parameter \"readout.1.bias\".\n",
      "Loading pretrained parameter \"readout.4.weight\".\n",
      "Loading pretrained parameter \"readout.4.bias\".\n",
      "Setting molecule featurization parameters to default.\n",
      "Loading data\n",
      "Validating SMILES\n",
      "Test size = 1,052\n"
     ]
    },
    {
     "name": "stderr",
     "output_type": "stream",
     "text": [
      "100%|██████████| 1/1 [00:03<00:00,  3.68s/it]\n"
     ]
    },
    {
     "name": "stdout",
     "output_type": "stream",
     "text": [
      "Saving predictions to /dev/null\n",
      "Elapsed time = 0:00:04\n",
      "Loading training args\n",
      "Loading pretrained parameter \"encoder.encoder.0.cached_zero_vector\".\n",
      "Loading pretrained parameter \"encoder.encoder.0.W_i.weight\".\n",
      "Loading pretrained parameter \"encoder.encoder.0.W_h.weight\".\n",
      "Loading pretrained parameter \"encoder.encoder.0.W_o.weight\".\n",
      "Loading pretrained parameter \"encoder.encoder.0.W_o.bias\".\n",
      "Loading pretrained parameter \"readout.1.weight\".\n",
      "Loading pretrained parameter \"readout.1.bias\".\n",
      "Loading pretrained parameter \"readout.4.weight\".\n",
      "Loading pretrained parameter \"readout.4.bias\".\n",
      "Setting molecule featurization parameters to default.\n",
      "Loading data\n",
      "Validating SMILES\n",
      "Test size = 775\n"
     ]
    },
    {
     "name": "stderr",
     "output_type": "stream",
     "text": [
      "100%|██████████| 1/1 [00:02<00:00,  2.63s/it]"
     ]
    },
    {
     "name": "stdout",
     "output_type": "stream",
     "text": [
      "Saving predictions to /dev/null\n",
      "Elapsed time = 0:00:03\n"
     ]
    },
    {
     "name": "stderr",
     "output_type": "stream",
     "text": [
      "\n"
     ]
    }
   ],
   "source": [
    "val_prob = chemprop_pred(val_smi)\n",
    "\n",
    "week1_prob = chemprop_pred(week1_smi)\n",
    "week2_prob = chemprop_pred(week2_smi)\n",
    "week3_prob = chemprop_pred(week3_smi)\n",
    "week4_prob = chemprop_pred(week4_smi)"
   ]
  },
  {
   "cell_type": "code",
   "execution_count": 48,
   "metadata": {},
   "outputs": [
    {
     "name": "stdout",
     "output_type": "stream",
     "text": [
      "{'AUC': '0.877', 'Accuracy': '0.793', 'Precision': '0.794', 'Recall': '0.779'}\n"
     ]
    }
   ],
   "source": [
    "print('val set',evaluate_metrics(val_true, val_prob))"
   ]
  },
  {
   "cell_type": "code",
   "execution_count": 49,
   "metadata": {},
   "outputs": [
    {
     "name": "stdout",
     "output_type": "stream",
     "text": [
      "val set {'AUC': '0.725', 'Accuracy': '0.690', 'Precision': '0.584', 'Recall': '0.651'}\n",
      "val set {'AUC': '0.686', 'Accuracy': '0.622', 'Precision': '0.635', 'Recall': '0.722'}\n",
      "val set {'AUC': '0.761', 'Accuracy': '0.723', 'Precision': '0.704', 'Recall': '0.806'}\n",
      "val set {'AUC': '0.811', 'Accuracy': '0.739', 'Precision': '0.804', 'Recall': '0.741'}\n"
     ]
    }
   ],
   "source": [
    "print('val set',evaluate_metrics(week1_true, week1_prob))\n",
    "print('val set',evaluate_metrics(week2_true, week2_prob))\n",
    "print('val set',evaluate_metrics(week3_true, week3_prob))\n",
    "print('val set',evaluate_metrics(week4_true, week4_prob))"
   ]
  }
 ],
 "metadata": {
  "kernelspec": {
   "display_name": "Python 3",
   "language": "python",
   "name": "python3"
  },
  "language_info": {
   "codemirror_mode": {
    "name": "ipython",
    "version": 3
   },
   "file_extension": ".py",
   "mimetype": "text/x-python",
   "name": "python",
   "nbconvert_exporter": "python",
   "pygments_lexer": "ipython3",
   "version": "3.9.20"
  }
 },
 "nbformat": 4,
 "nbformat_minor": 2
}
